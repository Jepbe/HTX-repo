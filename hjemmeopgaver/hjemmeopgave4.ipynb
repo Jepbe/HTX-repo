{
 "cells": [
  {
   "cell_type": "code",
   "execution_count": 2,
   "metadata": {},
   "outputs": [],
   "source": [
    "from gym_cas import *"
   ]
  },
  {
   "cell_type": "markdown",
   "metadata": {},
   "source": [
    "## Opgave 1\n",
    "\n",
    "Løs følgende ligninger ved “håndregning”"
   ]
  },
  {
   "cell_type": "code",
   "execution_count": null,
   "metadata": {},
   "outputs": [],
   "source": [
    "# qweqwe"
   ]
  },
  {
   "cell_type": "markdown",
   "metadata": {},
   "source": [
    "## Opgave 2\n",
    "\n",
    "##### Dragejægeren Lilina er 20 år yngre end ridderen Krox. For 3 år siden var Lilina halvt så gammel som Krox.\n",
    " • Hvor gammel er dragejægeren Lilina?\n"
   ]
  },
  {
   "cell_type": "markdown",
   "metadata": {},
   "source": [
    "$L = K - 20$ \\\n",
    "$L - 3 = \\frac{1}{2} (K - 3) $\n",
    "\n",
    "Hvis hun skal være fra 3 dage siden halvt så gammel som Krox og 20 år yngre så må hun være 23 år"
   ]
  },
  {
   "cell_type": "markdown",
   "metadata": {},
   "source": [
    "## Opgave 3\n",
    "Dragejægeren Lilina skal klatre op ad en lodret borgmur. Hun har kastet sit 25 meter lange klatrereb op og\n",
    "fastgjort det i toppen (vha. sit kasteanker). Når hun spænder klatrerebet helt ud ved at gå væk fra muren og\n",
    "derefter holder rebet ned til jorden danner det en vinkel på 75∘ med vandret.\n",
    "\n",
    "• Hvor høj er borgmuren?\n"
   ]
  }
 ],
 "metadata": {
  "kernelspec": {
   "display_name": "Python 3",
   "language": "python",
   "name": "python3"
  },
  "language_info": {
   "codemirror_mode": {
    "name": "ipython",
    "version": 3
   },
   "file_extension": ".py",
   "mimetype": "text/x-python",
   "name": "python",
   "nbconvert_exporter": "python",
   "pygments_lexer": "ipython3",
   "version": "3.11.6"
  }
 },
 "nbformat": 4,
 "nbformat_minor": 2
}
