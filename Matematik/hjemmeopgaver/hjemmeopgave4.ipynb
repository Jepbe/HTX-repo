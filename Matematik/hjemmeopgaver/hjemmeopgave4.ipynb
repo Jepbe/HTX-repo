{
 "cells": [
  {
   "cell_type": "code",
   "execution_count": 67,
   "metadata": {},
   "outputs": [],
   "source": [
    "from gym_cas import *\n",
    "import math"
   ]
  },
  {
   "cell_type": "markdown",
   "metadata": {},
   "source": [
    "## Opgave 1\n",
    "\n",
    "Løs følgende ligninger ved “håndregning”"
   ]
  },
  {
   "cell_type": "markdown",
   "metadata": {},
   "source": [
    "##### Ligning 1:\n",
    "$$\\dfrac{1}{3x} + 1 = \\dfrac{2}{5}$$ <br><br>\n",
    "$$\\dfrac{1}{3x} = \\dfrac{2}{5} - 1$$ <br><br>\n",
    "$$\\dfrac{1}{3x} = \\dfrac{2}{5} - 1 = \\dfrac{2}{5} - \\dfrac{5}{5} = -\\dfrac{3}{5}$$\n",
    "\n",
    "##### Ligning 2:\n",
    "$$\\dfrac{10}{3} - \\dfrac{2}{4x} = \\dfrac{2}{5}$$<br><br>\n",
    "$$\\dfrac{10}{3} = \\dfrac{2}{5} + \\dfrac{2}{4x}$$<br><br>\n",
    "$$\\dfrac{10}{3} \\cdot 4x = \\dfrac{2}{5} + \\dfrac{2}{4x} \\cdot 4x$$<br><br>\n",
    "$$\\dfrac{10}{3} \\cdot 4x = \\dfrac{2}{5} + 2$$\n",
    "$$\\dfrac{40x}{3} = \\dfrac{2}{5} + 2$$<br><br>\n",
    "$$13,33x = 2,4$$ <br><br>\n",
    "$$x = 2,4 \\div 13,33$$ <br><br>\n",
    "$$x = 0,18$$\n",
    "\n",
    "##### Ligning 3:\n",
    "$$\\dfrac{10-x}{3} - \\dfrac{2x + 20}{5} = \\dfrac{2x}{7}$$ <br> <br>\n",
    "$$\\dfrac{(10-x) \\cdot 5}{3 \\cdot 5} - \\dfrac{(2x + 20) \\cdot 3}{5 \\cdot 3} = \\dfrac{2x}{7}$$ <br> <br>\n",
    "$$\\dfrac{50-5x}{15} - \\dfrac{6x + 60}{15} = \\dfrac{2x}{7}$$ <br> <br>\n",
    "$$\\dfrac{50-5x - 6x + 60 }{15} = \\dfrac{2x}{7}$$ <br> <br>\n",
    "$$\\dfrac{-10 + x}{15} = \\dfrac{2x}{7}$$ <br> <br>\n",
    "$$\\dfrac{-10 + x}{15} \\cdot 15 \\cdot 7 = \\dfrac{2x}{7} \\cdot 15 \\cdot 7$$ <br> <br>\n",
    "$$-70 + 7x= 30x$$ <br> <br>\n",
    "$$-70 = 23x$$ <br> <br>\n",
    "$$\\dfrac{-70}{23} = x$$ <br> <br>\n",
    "$$x = -3,04$$\n"
   ]
  },
  {
   "cell_type": "markdown",
   "metadata": {},
   "source": [
    "## Opgave 2\n",
    "\n",
    "##### Dragejægeren Lilina er 20 år yngre end ridderen Krox. For 3 år siden var Lilina halvt så gammel som Krox.\n",
    " • Hvor gammel er dragejægeren Lilina?\n"
   ]
  },
  {
   "cell_type": "markdown",
   "metadata": {},
   "source": [
    "$L = K - 20$ <br>\n",
    "$L - 3 = \\dfrac{1}{2} (K - 3)$\n",
    "\n",
    "Hvis hun skal være fra 3 år siden halvt så gammel som Krox og 20 år yngre så må hun være 23 år"
   ]
  },
  {
   "cell_type": "markdown",
   "metadata": {},
   "source": [
    "\n",
    "## Opgave 3\n",
    "Dragejægeren Lilina skal klatre op ad en lodret borgmur. Hun har kastet sit 25 meter lange klatrereb op og\n",
    "fastgjort det i toppen (vha. sit kasteanker). Når hun spænder klatrerebet helt ud ved at gå væk fra muren og\n",
    "derefter holder rebet ned til jorden danner det en vinkel på 75∘ med vandret.\n",
    "\n",
    "• Hvor høj er borgmuren?\n",
    "\n",
    "\n",
    "For at finde højden af borgmuren benytter vi os af Sinus.\n",
    "\n",
    "Formel for sinus: $Sin(V)=\\dfrac{modstående katete}{hypotenusen}$"
   ]
  },
  {
   "cell_type": "code",
   "execution_count": 68,
   "metadata": {},
   "outputs": [
    {
     "data": {
      "text/latex": [
       "$\\displaystyle 24.1481456572267$"
      ],
      "text/plain": [
       "24.1481456572267"
      ]
     },
     "execution_count": 68,
     "metadata": {},
     "output_type": "execute_result"
    }
   ],
   "source": [
    "Sin(75) * 25"
   ]
  },
  {
   "cell_type": "markdown",
   "metadata": {},
   "source": [
    "Udregningen viser at borgmuren er 24.148 meter høj."
   ]
  },
  {
   "cell_type": "markdown",
   "metadata": {},
   "source": [
    "## Opgave 4\n",
    "Dragejægeren Lilina er kommet op på toppen af muren og lister sig videre til den modsatte borgmur hvor der\n",
    "er 30 meter lodret ned til det vand der er på denne side af borgen. Lilina skuer ud over vandet, som strækker\n",
    "sig så langt øjet rækker.\n",
    "\n",
    "• Hvor langt væk befinder horisonten sig hvis planeten Lilina befinder sig på har en omkreds på 40.000 km?\n",
    "\n",
    "\n",
    "<br>\n",
    "\n",
    "For at vi kan finde ud af hvor horisonten er bruger jeg formel: <br>\n",
    "$horisont = \\sqrt{højde \\cdot diameter + højde}$"
   ]
  },
  {
   "cell_type": "code",
   "execution_count": 69,
   "metadata": {},
   "outputs": [
    {
     "data": {
      "text/latex": [
       "$\\displaystyle 618.062993084482$"
      ],
      "text/plain": [
       "618.062993084482"
      ]
     },
     "execution_count": 69,
     "metadata": {},
     "output_type": "execute_result"
    }
   ],
   "source": [
    "svar = 30 * 40000 / math.pi + 30\n",
    "sqrt(svar)"
   ]
  },
  {
   "cell_type": "markdown",
   "metadata": {},
   "source": [
    "Udregningen her viser at Lilina kan se til horisonten som er 618.062 meter væk"
   ]
  },
  {
   "cell_type": "markdown",
   "metadata": {},
   "source": [
    "## Opgave 6\n",
    "Lilina har kæmpet sig ned til borgens køkken hvor hun er ved at blive overmandet af de mange vrede vagter.\n",
    "Hun bliver nødt til at glide ned ad slisken med køkkenaffald som danner en vinkel på 32∘ med vandret.\n",
    "\n",
    "• Hvor langt er Lilina gledet når hun er faldet 25 cm i højden?\n",
    "\n",
    "For at finde ud af hvor langt Lilina er gledet ned af slisken skal vi bruge tangens.\n",
    "\n",
    "\n",
    "Formel for tangens:   $tan(V)=\\dfrac{modstående}{tilstødende}$\n",
    "\n",
    "$tan(32)=\\dfrac{25}{længde}$ <br> <br>\n",
    "$længde = \\dfrac{25}{tan(32)}$"
   ]
  },
  {
   "cell_type": "code",
   "execution_count": 70,
   "metadata": {},
   "outputs": [
    {
     "data": {
      "text/latex": [
       "$\\displaystyle 0.624869351909328$"
      ],
      "text/plain": [
       "0.624869351909328"
      ]
     },
     "execution_count": 70,
     "metadata": {},
     "output_type": "execute_result"
    }
   ],
   "source": [
    "Tan(32)"
   ]
  },
  {
   "cell_type": "markdown",
   "metadata": {},
   "source": [
    "$længde = \\dfrac{25}{0,624}$"
   ]
  },
  {
   "cell_type": "code",
   "execution_count": 71,
   "metadata": {},
   "outputs": [
    {
     "data": {
      "text/plain": [
       "40.06410256410256"
      ]
     },
     "execution_count": 71,
     "metadata": {},
     "output_type": "execute_result"
    }
   ],
   "source": [
    "25/0.624"
   ]
  },
  {
   "cell_type": "markdown",
   "metadata": {},
   "source": [
    "Så Lilina gled cirka 40cm ned af slisken"
   ]
  },
  {
   "cell_type": "markdown",
   "metadata": {},
   "source": [
    "## Opgave 7\n",
    "\n",
    "I den vilkårlige trekant ABC kendes siderne 𝑎 = 4,72 og 𝑐 = 7,35 samt vinkel 𝐵 = 56,8∘. <br>\n",
    "    1. Beregn den resterende side og de resterende vinkler.\n",
    "\n",
    "I den vilkårlige trekant DEF kendes siden 𝑑 = 4,72 samt vinklerne 𝐸 = 56,8∘ og 𝐹 = 30∘.\n",
    "    2. Beregn de resterende sider og vinkel.\n",
    "\n",
    "I den vilkårlige trekant GHI kendes siderne 𝑔 = 5 og ℎ = 4.\n",
    "    3. Hvis vinklen 𝐻 = 45∘, hvad kan vinklen 𝐼 så være?\n",
    "    4. Er det en trekant hvis 𝐻 = 60∘?\n",
    "    5. Hvad er den største værdi som 𝐻 kan være? Hvad er vinkel 𝐺 i dette tilfælde?\n",
    "\n"
   ]
  },
  {
   "cell_type": "markdown",
   "metadata": {},
   "source": [
    "1. Beregn den resterende side og de resterende vinkler. <br>\n",
    "For at finde siden b bruger jeg pythagoras læresætning som fortæller os at $a^2 + b^2 = c^2$"
   ]
  },
  {
   "cell_type": "code",
   "execution_count": 72,
   "metadata": {},
   "outputs": [
    {
     "data": {
      "text/plain": [
       "76.30089999999998"
      ]
     },
     "execution_count": 72,
     "metadata": {},
     "output_type": "execute_result"
    }
   ],
   "source": [
    "4.72**2 + 7.35**2"
   ]
  },
  {
   "cell_type": "code",
   "execution_count": 73,
   "metadata": {},
   "outputs": [
    {
     "data": {
      "text/latex": [
       "$\\displaystyle 8.73503863757911$"
      ],
      "text/plain": [
       "8.73503863757911"
      ]
     },
     "execution_count": 73,
     "metadata": {},
     "output_type": "execute_result"
    }
   ],
   "source": [
    "sqrt(76.30089999999998)"
   ]
  },
  {
   "cell_type": "markdown",
   "metadata": {},
   "source": [
    "Efter viste udregninger ved vi at siden b = 8.73503863757911\n",
    "\n",
    "Så finder vi siden b vha. cosinusrelationer: $\\sqrt{a^2 + c^2 - 2 \\cdot a \\cdot c \\cdot cos(B)}$"
   ]
  },
  {
   "cell_type": "code",
   "execution_count": 74,
   "metadata": {},
   "outputs": [
    {
     "data": {
      "text/latex": [
       "$\\displaystyle 6.18940815435473$"
      ],
      "text/plain": [
       "6.18940815435473"
      ]
     },
     "execution_count": 74,
     "metadata": {},
     "output_type": "execute_result"
    }
   ],
   "source": [
    "sqrt(4.72**2+7.35**2-2*4.72*7.35*Cos(56.8))"
   ]
  },
  {
   "cell_type": "markdown",
   "metadata": {},
   "source": [
    "Så siden b = 6.189\n",
    "\n",
    "For så at finde vinkel A bruger vi igen cosinusrelationer: $cos(A)=\\dfrac{b^2 + c^2 - a^2}{2bc}$"
   ]
  },
  {
   "cell_type": "code",
   "execution_count": 75,
   "metadata": {},
   "outputs": [
    {
     "data": {
      "text/latex": [
       "$\\displaystyle 39.6510830254133$"
      ],
      "text/plain": [
       "39.6510830254133"
      ]
     },
     "execution_count": 75,
     "metadata": {},
     "output_type": "execute_result"
    }
   ],
   "source": [
    "aCos((6.189408**2+7.35**2-4.72**2)/(2*6.189408*7.35))"
   ]
  },
  {
   "cell_type": "markdown",
   "metadata": {},
   "source": [
    "Vinkel A er så 39.651 grader\n",
    "\n",
    "Vinkel C finder vi på baugrund af vores viden om at der er 180 grader i en trekant."
   ]
  },
  {
   "cell_type": "code",
   "execution_count": 76,
   "metadata": {},
   "outputs": [
    {
     "data": {
      "text/plain": [
       "83.5489169745867"
      ]
     },
     "execution_count": 76,
     "metadata": {},
     "output_type": "execute_result"
    }
   ],
   "source": [
    "180 - 39.6510830254133 - 56.8"
   ]
  },
  {
   "cell_type": "markdown",
   "metadata": {},
   "source": [
    "Derfor er vinkel C 83.5489169745867 grader\n",
    "<br>\n",
    "<br>\n",
    "\n",
    "2. Beregn de resterende sider og vinkel.\n",
    "\n",
    "Vi starter med at finde den sidste vinkel. D.\n",
    "Det gør vi igen fordi vi ved der er 180 grader i en trekant. "
   ]
  },
  {
   "cell_type": "code",
   "execution_count": 77,
   "metadata": {},
   "outputs": [
    {
     "data": {
      "text/plain": [
       "93.2"
      ]
     },
     "execution_count": 77,
     "metadata": {},
     "output_type": "execute_result"
    }
   ],
   "source": [
    "180 - 56.8 - 30"
   ]
  },
  {
   "cell_type": "markdown",
   "metadata": {},
   "source": [
    "Nu har vi alle vinklerne i vores trekant og vi kan begynde at beregne de sidste sider.\n",
    "\n",
    "nu regener vi siden e"
   ]
  },
  {
   "cell_type": "code",
   "execution_count": 78,
   "metadata": {},
   "outputs": [
    {
     "data": {
      "text/latex": [
       "$\\displaystyle 9.4252808138779$"
      ],
      "text/plain": [
       "9.42528081387790"
      ]
     },
     "execution_count": 78,
     "metadata": {},
     "output_type": "execute_result"
    }
   ],
   "source": [
    "4.72*Sin(93.2)/Sin(30)"
   ]
  },
  {
   "cell_type": "markdown",
   "metadata": {},
   "source": [
    "Siden er er derfor 9.4252808138779\n",
    "\n",
    "Så regner vi den sidste side som er siden f"
   ]
  },
  {
   "cell_type": "code",
   "execution_count": 79,
   "metadata": {},
   "outputs": [
    {
     "data": {
      "text/latex": [
       "$\\displaystyle 7.8990551190526$"
      ],
      "text/plain": [
       "7.89905511905260"
      ]
     },
     "execution_count": 79,
     "metadata": {},
     "output_type": "execute_result"
    }
   ],
   "source": [
    "4.72*Sin(56.8)/Sin(30)"
   ]
  },
  {
   "cell_type": "markdown",
   "metadata": {},
   "source": [
    "Siden f er derved 7.8990551190526\n",
    "\n",
    "\n",
    "3. Hvis vinklen 𝐻 = 45∘, hvad kan vinklen 𝐼 så være?\n",
    "\n",
    "Vi finder siden I med cosinusrelationerne igen: $cos(A)=\\dfrac{b^2 + c^2 - a^2}{2bc}$"
   ]
  },
  {
   "cell_type": "code",
   "execution_count": 80,
   "metadata": {},
   "outputs": [
    {
     "data": {
      "text/latex": [
       "$\\displaystyle 72.8855733293959$"
      ],
      "text/plain": [
       "72.8855733293959"
      ]
     },
     "execution_count": 80,
     "metadata": {},
     "output_type": "execute_result"
    }
   ],
   "source": [
    "aCos((4**2+5**2-5.406363**2)/(2*4*5))"
   ]
  },
  {
   "cell_type": "markdown",
   "metadata": {},
   "source": [
    "Vinkel også være: "
   ]
  },
  {
   "cell_type": "code",
   "execution_count": 81,
   "metadata": {},
   "outputs": [
    {
     "data": {
      "text/latex": [
       "$\\displaystyle 17.1144297194546$"
      ],
      "text/plain": [
       "17.1144297194546"
      ]
     },
     "execution_count": 81,
     "metadata": {},
     "output_type": "execute_result"
    }
   ],
   "source": [
    "aCos((4**2+5**2-1.664705**2)/(2*4*5))"
   ]
  },
  {
   "cell_type": "markdown",
   "metadata": {},
   "source": [
    "Så vinkel I kan være 72.885 grader og 17.114 grader"
   ]
  }
 ],
 "metadata": {
  "kernelspec": {
   "display_name": "Python 3",
   "language": "python",
   "name": "python3"
  },
  "language_info": {
   "codemirror_mode": {
    "name": "ipython",
    "version": 3
   },
   "file_extension": ".py",
   "mimetype": "text/x-python",
   "name": "python",
   "nbconvert_exporter": "python",
   "pygments_lexer": "ipython3",
   "version": "3.11.6"
  }
 },
 "nbformat": 4,
 "nbformat_minor": 2
}
