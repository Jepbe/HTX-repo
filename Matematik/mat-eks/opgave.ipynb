{
 "cells": [
  {
   "cell_type": "markdown",
   "metadata": {},
   "source": [
    "$|AB| = \\sqrt{(x_{2}-x_{1})^2+(y_2-y_1)^2}$"
   ]
  },
  {
   "cell_type": "code",
   "execution_count": 17,
   "metadata": {},
   "outputs": [
    {
     "data": {
      "text/latex": [
       "$\\displaystyle 0.766044443118978$"
      ],
      "text/plain": [
       "0.766044443118978"
      ]
     },
     "execution_count": 17,
     "metadata": {},
     "output_type": "execute_result"
    }
   ],
   "source": [
    "import math\n",
    "from gym_cas import *\n",
    "\n",
    "math.sqrt(26)"
   ]
  },
  {
   "cell_type": "markdown",
   "metadata": {},
   "source": [
    "$|AB| = \\sqrt{(0_{2}--1_{1})^2+(6_2-2_1)^2}$"
   ]
  },
  {
   "cell_type": "code",
   "execution_count": 8,
   "metadata": {},
   "outputs": [
    {
     "data": {
      "text/plain": [
       "1.7320508075688772"
      ]
     },
     "execution_count": 8,
     "metadata": {},
     "output_type": "execute_result"
    }
   ],
   "source": [
    "math.sqrt((0--1**2)+(6-2**2))"
   ]
  },
  {
   "cell_type": "markdown",
   "metadata": {},
   "source": [
    "m: <br><br>\n",
    "$-3x + y - 8 = 0$ <br><br>\n",
    "$-3x + 3x - y - 8 + 8 = 0 + 3x + 8$ <br><br>\n",
    "$-y = 3x + 8$ <br> <br> <br><br>\n",
    "\n",
    "l: <br><br>\n",
    "$2x - 6y - 1 = 0$ <br><br>\n",
    "$2x - 6y + 6y - 1 = 0 + 6y$ <br><br>\n",
    "$2x - 1 = 6y$ <br><br>\n",
    "$\\dfrac{6y}{6} = \\dfrac{2x}{6} - \\dfrac{1}{6}$ <br><br>\n",
    "$y = \\dfrac{1x}{3} - \\dfrac{1}{6}$ <br><br>\n",
    "\n"
   ]
  }
 ],
 "metadata": {
  "kernelspec": {
   "display_name": "Python 3",
   "language": "python",
   "name": "python3"
  },
  "language_info": {
   "codemirror_mode": {
    "name": "ipython",
    "version": 3
   },
   "file_extension": ".py",
   "mimetype": "text/x-python",
   "name": "python",
   "nbconvert_exporter": "python",
   "pygments_lexer": "ipython3",
   "version": "3.12.0"
  }
 },
 "nbformat": 4,
 "nbformat_minor": 2
}
