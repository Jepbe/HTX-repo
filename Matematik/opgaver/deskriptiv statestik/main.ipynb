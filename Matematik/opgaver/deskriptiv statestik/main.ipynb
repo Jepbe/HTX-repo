{
 "cells": [
  {
   "cell_type": "markdown",
   "metadata": {},
   "source": [
    "Maksimum/minimum\n",
    "\n",
    "$Z=\\{0, 2, 2, 2, 4, 4, 4, 4, 7, 7, 7, 7, 7, 7, 7, 7, 7, 7, 10, 10, 10, 10, 12, 12, 12, 12, 12\\}$\n",
    "\n",
    " $\\text{minimum = 0}$<br>\n",
    " $\\text{maksimum = 12}$"
   ]
  },
  {
   "cell_type": "markdown",
   "metadata": {},
   "source": [
    "Variationsbredde<br><br>\n",
    "Afstanden mellem minimum og maksimum <br><br>\n",
    "$Z=\\{0, 2, 2, 2, 4, 4, 4, 4, 7, 7, 7, 7, 7, 7, 7, 7, 7, 7, 10, 10, 10, 10, 12, 12, 12, 12, 12\\}$<br><br>\n",
    "$\\text{maksimum} - \\text{minimmum} = 12 - 0 = 12$"
   ]
  }
 ],
 "metadata": {
  "language_info": {
   "name": "python"
  }
 },
 "nbformat": 4,
 "nbformat_minor": 2
}
